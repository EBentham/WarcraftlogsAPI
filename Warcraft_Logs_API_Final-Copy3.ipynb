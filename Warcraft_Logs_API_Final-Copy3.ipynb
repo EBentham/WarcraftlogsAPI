{
 "cells": [
  {
   "cell_type": "code",
   "execution_count": 7,
   "id": "50815d67",
   "metadata": {
    "scrolled": false
   },
   "outputs": [],
   "source": [
    "import json\n",
    "import os\n",
    "import pandas as pd\n",
    "import requests\n",
    "import numpy as np\n",
    "from IPython.display import display_html\n",
    "from itertools import chain,cycle\n",
    "import plotly.offline as py_offline\n",
    "import plotly.graph_objects as go\n",
    "\n",
    "pd.options.mode.chained_assignment = None  # default='warn'\n",
    "\n",
    "class GDKPCalcuator:\n",
    "    \n",
    "    def __init__(self, warcraftLogURL, pot, management = 0.15, tankCut = 0.1375, healerCut = 0.2665, noOfTanks = 3, noOfHealers = 6,\n",
    "                 namesToRemove = [], bonusCutsDict = {}, deductionsCutsDict = {}):\n",
    "                  \n",
    "        self.noOfTanks = noOfTanks\n",
    "        self.noOfHealers = noOfHealers\n",
    "        self.pot = pot\n",
    "        self.bonusCutsDict = bonusCutsDict\n",
    "        self.deductionsCutsDict = deductionsCutsDict\n",
    "        self.namesToRemove = namesToRemove\n",
    "        self.supportsCutDict = {'Druid-Balance': 0.0125, 'Priest-Shadow' : 0.0175, 'Shaman-Enhancement' : 0.0125, \\\n",
    "                                'Shaman-Elemental' : 0.0125, 'Hunter-Survival' : 0.01, 'Paladin-Retribution' : 0.0125}\n",
    "        \n",
    "        self.warcraftLogURL = warcraftLogURL\n",
    "        self.df = self.__generateBaseDF(self.warcraftLogURL)\n",
    "        \n",
    "            \n",
    "        self.tanks = list(self.df[self.df.Role == \"Tank\"].index)\n",
    "        self.healers = list(self.df[self.df.Role == \"Healer\"].index)\n",
    "        self.dps = list(self.df[self.df.Role == \"DPS\"].index)    \n",
    "        \n",
    "        self.managementCut = 0.15 * self.pot\n",
    "        self.raiderPot = self.pot - self.managementCut\n",
    "        self.tankCutTotal = tankCut * self.raiderPot\n",
    "        self.healerCutTotal = healerCut * self.raiderPot\n",
    "        self.supportCutTotal = self.__getSupportCutTotal(self.df)\n",
    "        self.bonusCutTotal = self.__getBonusCutTotal(self.df)\n",
    "        self.dpsCutTotal = self.raiderPot - self.tankCutTotal - self.healerCutTotal - self.supportCutTotal - self.bonusCutTotal\n",
    "        \n",
    "        self.df = self.__addCuts(self.df)\n",
    "        \n",
    "    def removePlayers(self, df):\n",
    "        \n",
    "        return df.drop(self.namesToRemove)\n",
    "            \n",
    "            \n",
    "    def diagnostics(self):\n",
    "    \n",
    "        print(\"Tank Cut    : \", str(round(self.tankCutTotal, 3)), \"\\nTank Cut DF : \", str(round(self.df[\"Tank Cut\"].sum(), 3)) + \"\\n\\n\")\n",
    "        print(\"Healer Cut    : \", str(round(self.healerCutTotal, 3)), \"\\nHealer Cut DF : \", str(round(self.df[\"Healer Cut\"].sum(), 3)) + \"\\n\\n\")\n",
    "        print(\"DPS Cut    : \", str(round(self.dpsCutTotal, 3)), \"\\nDPS Cut DF : \", str(round(self.df[\"Damage Cut\"].sum(), 3)) + \"\\n\\n\")\n",
    "        print(\"Support Cut    : \", str(round(self.supportCutTotal, 3)), \"\\nSupport Cut DF : \", str(round(self.df[\"Support Cut\"].sum(), 3)) + \"\\n\\n\")\n",
    "        print(\"Bonus Cut    : \", str(round(self.bonusCutTotal, 3)), \"\\nBonus Cut DF : \", str(round(self.df[\"Bonus Cut\"].sum(), 3)) + \"\\n\\n\")\n",
    "        \n",
    "        \n",
    "        print(\"\\nTotal Pot      : \", round(self.pot, 3))\n",
    "        print(\"Management Cut : \", round(self.managementCut, 3))\n",
    "        print(\"Raider Cut     : \", round(self.raiderPot, 3))\n",
    "        \n",
    "        print(\"\\nTank Cut    : \", round(self.tankCutTotal, 3))\n",
    "        print(\"Healer Cut  : \", round(self.healerCutTotal, 3))\n",
    "        print(\"DPS Cut     : \", round(self.dpsCutTotal, 3))\n",
    "        print(\"Support Cut : \", round(self.supportCutTotal, 3))\n",
    "        print(\"Bonus Cut   : \", round(self.bonusCutTotal, 3))\n",
    "        print(\"Total Cuts  : \", round(self.tankCutTotal + self.healerCutTotal + self.dpsCutTotal + self.supportCutTotal + self.bonusCutTotal, 3) )\n",
    "        \n",
    "    def __getSupportCutTotal(self, df):\n",
    "        \n",
    "        supportCutPercentage = 0\n",
    "        for index, row in self.df[self.df.Spec.isin(list(self.supportsCutDict.keys()))].iterrows():\n",
    "            supportCutPercentage += self.supportsCutDict[row.Spec]\n",
    "            \n",
    "        \n",
    "        return self.raiderPot * supportCutPercentage\n",
    "     \n",
    "    def __getBonusCutTotal(self, df):\n",
    "        \n",
    "        bonusCutPercentage = 0\n",
    "        for player, amount in self.bonusCutsDict.items():\n",
    "            bonusCutPercentage += amount\n",
    "        \n",
    "        return self.raiderPot * bonusCutPercentage\n",
    "        \n",
    "    def __generateBaseDF(self, warcraftLogURL): #https://tbc.warcraftlogs.com/reports/1yq4bAzZ7JwYMvDH\n",
    "        \n",
    "        baseUrl = \"https://classic.warcraftlogs.com:443/v1/\"\n",
    "        logId = warcraftLogURL.split(\"/\")[-1]\n",
    "        apiKey = \"16b730dd4be606d61ce2920212baa71c\"\n",
    "        apiKeyString = \"?translate=true&api_key=\" + apiKey;\n",
    "\n",
    "\n",
    "        playersURL = baseUrl + \"report/tables/casts/\" + logId + apiKeyString + \"&start=0&end=999999999999\"\n",
    "        damageURL = baseUrl + \"report/tables/damage-done/\" + logId + apiKeyString + \"&start=0&end=999999999999\";\n",
    "        healingURL = baseUrl + \"report/tables/healing/\" + logId + apiKeyString + \"&start=0&end=999999999999\";\n",
    "        damageTakenURL = baseUrl + \"report/tables/damage-taken/\" + logId + apiKeyString + \"&start=0&end=999999999999\";\n",
    "\n",
    "        playersLog = requests.get(playersURL)\n",
    "        damageLog = requests.get(damageURL)\n",
    "        healingLog = requests.get(healingURL)\n",
    "        damagaTakenLog = requests.get(damageTakenURL)\n",
    "\n",
    "        dataPlayers = playersLog.json()\n",
    "        dataDamage = damageLog.json()\n",
    "        datahealing = healingLog.json()\n",
    "        dataDmgTaken = damagaTakenLog.json()\n",
    "\n",
    "        desiredColumnsDataPlayers = [\"name\", \"type\", \"icon\"]\n",
    "        desiredColumnsDataDamage = [\"name\", \"total\"]\n",
    "        desiredColumnsDatahealing = [\"name\", \"total\"]\n",
    "        desiredColumnsDataDmgTaken = [\"name\", \"total\"]\n",
    "        \n",
    "        df = pd.DataFrame(dataPlayers['entries'])[desiredColumnsDataPlayers]\\\n",
    "        .rename(columns={\"name\": \"Name\", \"type\": \"Class\", 'icon' : \"Spec\"}).set_index('Name')\n",
    "\n",
    "        tempDF = pd.DataFrame(dataDamage['entries'])[desiredColumnsDataDamage]\\\n",
    "        .rename(columns={\"name\": \"Name\", \"total\": \"Damage Done\"}).set_index('Name')\n",
    "\n",
    "        df = df.join(tempDF, how='outer')\n",
    "\n",
    "        tempDF = pd.DataFrame(datahealing['entries'])[desiredColumnsDatahealing]\\\n",
    "        .rename(columns={\"name\": \"Name\", \"total\": \"Healing Done\"}).set_index('Name')\n",
    "\n",
    "        df = df.join(tempDF, how='inner')\n",
    "\n",
    "        tempDF = pd.DataFrame(dataDmgTaken['entries'])[desiredColumnsDataDmgTaken]\\\n",
    "        .rename(columns={\"name\": \"Name\", \"total\": \"Damage Taken\"}).set_index('Name')\n",
    "\n",
    "        df = df.join(tempDF, how='inner')\n",
    "        \n",
    "        if self.namesToRemove != None:\n",
    "            df = self.removePlayers(df)\n",
    "            \n",
    "        tanks = list(df.sort_values('Damage Taken', ascending=False).head(self.noOfTanks).index)\n",
    "        healers = list(df.sort_values('Healing Done', ascending=False).head(self.noOfHealers).index)\n",
    "\n",
    "        roles = {}\n",
    "\n",
    "        for player in tanks:\n",
    "            roles[player] = \"Tank\"\n",
    "        for player in healers:\n",
    "            roles[player] = \"Healer\"\n",
    "\n",
    "        df[\"Role\"] = pd.Series(roles)\n",
    "        df[\"Role\"] = df[\"Role\"].fillna(\"DPS\")\n",
    "\n",
    "        return df       \n",
    "             \n",
    "    def __addCuts(self, df): #https://tbc.warcraftlogs.com/reports/1yq4bAzZ7JwYMvDH\n",
    "        \n",
    "        df = self.__addDamageCuts(df)\n",
    "        df = self.__addTankCuts(df)\n",
    "        df = self.__addHealerCuts(df)\n",
    "        df = self.__addSupportCuts(df)\n",
    "        df = self.__addBonusCuts(df)\n",
    "        df = self.__addDeductions(df)\n",
    "        \n",
    "        df[\"Total Cut\"] = df[\"Damage Cut\"] + df[\"Support Cut\"] + df[\"Tank Cut\"] + df[\"Healer Cut\"] + df[\"Bonus Cut\"] + df[\"Deductions\"]\n",
    "        df[\"Total Cut\"] = np.ceil(df[\"Total Cut\"])\n",
    "        df[\"Total Cut\"] = df[\"Total Cut\"].astype('int')\n",
    "        \n",
    "        return df\n",
    "    \n",
    "    def __addDamageCuts(self, df):\n",
    "\n",
    "        percentageDamage = {}\n",
    "\n",
    "        dpsDF = df[df.Role == \"DPS\"]\n",
    "        totalDamage = dpsDF[\"Damage Done\"].sum()\n",
    "        for player in dpsDF.index:\n",
    "            percentageDamage[player] = float(dpsDF[dpsDF.index.isin([player])][\"Damage Done\"] / totalDamage)\n",
    "\n",
    "        df[\"Percentage Damage\"] = pd.Series(percentageDamage)\n",
    "        df[\"Percentage Damage\"] = df[\"Percentage Damage\"].fillna(0)\n",
    "        \n",
    "        cutDueToDamage = {}\n",
    "        for player, percent in percentageDamage.items():\n",
    "            cutDueToDamage[player] = percent * self.dpsCutTotal\n",
    "\n",
    "        playerMaxDMG = max(percentageDamage, key=percentageDamage.get)\n",
    "        playerMinDMG = self.__minOfDict(percentageDamage)\n",
    "        \n",
    "        percentageDamage[playerMaxDMG] = percentageDamage[playerMaxDMG] + 0.005\n",
    "        percentageDamage[playerMinDMG] = percentageDamage[playerMinDMG] - 0.005\n",
    "\n",
    "        damageCut = {}\n",
    "\n",
    "        for player in dpsDF.index:\n",
    "            damageCut[player] = percentageDamage[player] * self.dpsCutTotal\n",
    "\n",
    "        df[\"Damage Cut\"] = pd.Series(damageCut)\n",
    "        df[\"Damage Cut\"] = df[\"Damage Cut\"].fillna(0)\n",
    "    \n",
    "        return df\n",
    "    \n",
    "    def __addTankCuts(self, df):\n",
    "    \n",
    "        tankCut = {}\n",
    "        for player in self.tanks:\n",
    "            tankCut[player] = self.tankCutTotal/ len(self.tanks)\n",
    "\n",
    "        df[\"Tank Cut\"] = pd.Series(tankCut)\n",
    "        df[\"Tank Cut\"] = df[\"Tank Cut\"].fillna(0)\n",
    "\n",
    "        return df\n",
    "    \n",
    "    def __addHealerCuts(self, df):\n",
    "        \n",
    "        healerCut = {}\n",
    "        for player in self.healers:\n",
    "            healerCut[player] = self.healerCutTotal/ len(self.healers)\n",
    "\n",
    "        df[\"Healer Cut\"] = pd.Series(healerCut)\n",
    "        df[\"Healer Cut\"] = df[\"Healer Cut\"].fillna(0)\n",
    "\n",
    "        return df\n",
    "    \n",
    "    def __addBonusCuts(self, df):\n",
    "        \n",
    "        bonusCut = {}\n",
    "        \n",
    "        for player, value in self.bonusCutsDict.items():\n",
    "            bonusCut[player] = value * self.raiderPot \n",
    "        df[\"Bonus Cut\"] = pd.Series(bonusCut)\n",
    "        df[\"Bonus Cut\"] = df[\"Bonus Cut\"].fillna(0)\n",
    "\n",
    "        return df\n",
    "    \n",
    "    def __addSupportCuts(self, df):\n",
    "        \n",
    "        supportSpecs = list(self.supportsCutDict.keys())\n",
    "        supportDF = df[df.Spec.isin(supportSpecs)]\n",
    "\n",
    "        supportsCut = {}\n",
    "\n",
    "        for index, row in supportDF.iterrows():\n",
    "            supportsCut[index] = self.supportsCutDict[row.Spec] * self.raiderPot\n",
    "\n",
    "        df[\"Support Cut\"] = pd.Series(supportsCut)\n",
    "        df[\"Support Cut\"] = df[\"Support Cut\"].fillna(0)\n",
    "        \n",
    "        return df\n",
    "    \n",
    "    def __addDeductions(self, df):\n",
    "        \n",
    "        deductions = {}\n",
    "        \n",
    "        for player, amount in self.deductionsCutsDict.items():\n",
    "            deductions[player] = int(amount) * -1\n",
    "         \n",
    "        df[\"Deductions\"] = pd.Series(deductions, dtype = \"float64\")\n",
    "        df[\"Deductions\"] = df[\"Deductions\"].fillna(pd.Series(deductions.values(), dtype = \"float64\").sum()/(len(self.df)-len(self.deductionsCutsDict)) * -1)\n",
    "        \n",
    "        return df\n",
    "    \n",
    "    def __minOfDict(self, dictionary):\n",
    "              \n",
    "        val = min(filter(None, dictionary.values()))\n",
    "        res = next(k for k, v in dictionary.items() if v == val)  # 2\n",
    "\n",
    "        return res\n",
    "    \n",
    "    def printDFClean(self):\n",
    "\n",
    "        df = self.df\n",
    "\n",
    "        fig = go.Figure(data=[go.Table(\n",
    "            header=dict(values=list([\"Name\", \" Cut\"]),\n",
    "                        fill_color='paleturquoise',\n",
    "                        align='center'),\n",
    "            columnwidth = [80,80],\n",
    "            cells=dict(values=[list(fatMonies.df.index), fatMonies.df[\"Total Cut\"]],\n",
    "                       fill_color='lavender',\n",
    "                       align='center'))\n",
    "        ])\n",
    "        \n",
    "        fig.update_layout(xaxis=dict(showgrid=False),\n",
    "              yaxis=dict(showgrid=False)\n",
    "        )\n",
    "        fig.update_layout(\n",
    "\n",
    "            height=750,\n",
    "            paper_bgcolor=\"white\"\n",
    "        )\n",
    "        \n",
    "        py_offline.iplot(fig)\n",
    "    \n"
   ]
  },
  {
   "cell_type": "code",
   "execution_count": 68,
   "id": "e6d11778",
   "metadata": {
    "scrolled": false
   },
   "outputs": [
    {
     "data": {
      "application/vnd.plotly.v1+json": {
       "config": {
        "linkText": "Export to plot.ly",
        "plotlyServerURL": "https://plot.ly",
        "showLink": false
       },
       "data": [
        {
         "cells": {
          "align": "center",
          "fill": {
           "color": "lavender"
          },
          "values": [
           [
            "Bambambamm",
            "Careful",
            "Clutchxd",
            "Darmar",
            "Elodié",
            "Fakemechanic",
            "Gezz",
            "Grízzly",
            "Halishock",
            "Massoud",
            "Nekmage",
            "Neryxsp",
            "Onenighter",
            "Pickenicke",
            "Prefertocat",
            "Røchelle",
            "Savagebeep",
            "Shadowkind",
            "Shinebrïght",
            "Steffx",
            "Streaming",
            "Unstoppàble",
            "Ét",
            "Ëmillion",
            "Ìnvinity"
           ],
           [
            2336,
            2010,
            2242,
            2403,
            2242,
            2242,
            2767,
            1922,
            2242,
            273,
            2063,
            2242,
            1211,
            2242,
            2418,
            2432,
            2050,
            2242,
            2418,
            2393,
            2620,
            1644,
            1837,
            1847,
            2418
           ]
          ]
         },
         "columnwidth": [
          80,
          80
         ],
         "header": {
          "align": "center",
          "fill": {
           "color": "paleturquoise"
          },
          "values": [
           "Name",
           " Cut"
          ]
         },
         "type": "table"
        }
       ],
       "layout": {
        "height": 750,
        "paper_bgcolor": "white",
        "template": {
         "data": {
          "bar": [
           {
            "error_x": {
             "color": "#2a3f5f"
            },
            "error_y": {
             "color": "#2a3f5f"
            },
            "marker": {
             "line": {
              "color": "#E5ECF6",
              "width": 0.5
             },
             "pattern": {
              "fillmode": "overlay",
              "size": 10,
              "solidity": 0.2
             }
            },
            "type": "bar"
           }
          ],
          "barpolar": [
           {
            "marker": {
             "line": {
              "color": "#E5ECF6",
              "width": 0.5
             },
             "pattern": {
              "fillmode": "overlay",
              "size": 10,
              "solidity": 0.2
             }
            },
            "type": "barpolar"
           }
          ],
          "carpet": [
           {
            "aaxis": {
             "endlinecolor": "#2a3f5f",
             "gridcolor": "white",
             "linecolor": "white",
             "minorgridcolor": "white",
             "startlinecolor": "#2a3f5f"
            },
            "baxis": {
             "endlinecolor": "#2a3f5f",
             "gridcolor": "white",
             "linecolor": "white",
             "minorgridcolor": "white",
             "startlinecolor": "#2a3f5f"
            },
            "type": "carpet"
           }
          ],
          "choropleth": [
           {
            "colorbar": {
             "outlinewidth": 0,
             "ticks": ""
            },
            "type": "choropleth"
           }
          ],
          "contour": [
           {
            "colorbar": {
             "outlinewidth": 0,
             "ticks": ""
            },
            "colorscale": [
             [
              0,
              "#0d0887"
             ],
             [
              0.1111111111111111,
              "#46039f"
             ],
             [
              0.2222222222222222,
              "#7201a8"
             ],
             [
              0.3333333333333333,
              "#9c179e"
             ],
             [
              0.4444444444444444,
              "#bd3786"
             ],
             [
              0.5555555555555556,
              "#d8576b"
             ],
             [
              0.6666666666666666,
              "#ed7953"
             ],
             [
              0.7777777777777778,
              "#fb9f3a"
             ],
             [
              0.8888888888888888,
              "#fdca26"
             ],
             [
              1,
              "#f0f921"
             ]
            ],
            "type": "contour"
           }
          ],
          "contourcarpet": [
           {
            "colorbar": {
             "outlinewidth": 0,
             "ticks": ""
            },
            "type": "contourcarpet"
           }
          ],
          "heatmap": [
           {
            "colorbar": {
             "outlinewidth": 0,
             "ticks": ""
            },
            "colorscale": [
             [
              0,
              "#0d0887"
             ],
             [
              0.1111111111111111,
              "#46039f"
             ],
             [
              0.2222222222222222,
              "#7201a8"
             ],
             [
              0.3333333333333333,
              "#9c179e"
             ],
             [
              0.4444444444444444,
              "#bd3786"
             ],
             [
              0.5555555555555556,
              "#d8576b"
             ],
             [
              0.6666666666666666,
              "#ed7953"
             ],
             [
              0.7777777777777778,
              "#fb9f3a"
             ],
             [
              0.8888888888888888,
              "#fdca26"
             ],
             [
              1,
              "#f0f921"
             ]
            ],
            "type": "heatmap"
           }
          ],
          "heatmapgl": [
           {
            "colorbar": {
             "outlinewidth": 0,
             "ticks": ""
            },
            "colorscale": [
             [
              0,
              "#0d0887"
             ],
             [
              0.1111111111111111,
              "#46039f"
             ],
             [
              0.2222222222222222,
              "#7201a8"
             ],
             [
              0.3333333333333333,
              "#9c179e"
             ],
             [
              0.4444444444444444,
              "#bd3786"
             ],
             [
              0.5555555555555556,
              "#d8576b"
             ],
             [
              0.6666666666666666,
              "#ed7953"
             ],
             [
              0.7777777777777778,
              "#fb9f3a"
             ],
             [
              0.8888888888888888,
              "#fdca26"
             ],
             [
              1,
              "#f0f921"
             ]
            ],
            "type": "heatmapgl"
           }
          ],
          "histogram": [
           {
            "marker": {
             "pattern": {
              "fillmode": "overlay",
              "size": 10,
              "solidity": 0.2
             }
            },
            "type": "histogram"
           }
          ],
          "histogram2d": [
           {
            "colorbar": {
             "outlinewidth": 0,
             "ticks": ""
            },
            "colorscale": [
             [
              0,
              "#0d0887"
             ],
             [
              0.1111111111111111,
              "#46039f"
             ],
             [
              0.2222222222222222,
              "#7201a8"
             ],
             [
              0.3333333333333333,
              "#9c179e"
             ],
             [
              0.4444444444444444,
              "#bd3786"
             ],
             [
              0.5555555555555556,
              "#d8576b"
             ],
             [
              0.6666666666666666,
              "#ed7953"
             ],
             [
              0.7777777777777778,
              "#fb9f3a"
             ],
             [
              0.8888888888888888,
              "#fdca26"
             ],
             [
              1,
              "#f0f921"
             ]
            ],
            "type": "histogram2d"
           }
          ],
          "histogram2dcontour": [
           {
            "colorbar": {
             "outlinewidth": 0,
             "ticks": ""
            },
            "colorscale": [
             [
              0,
              "#0d0887"
             ],
             [
              0.1111111111111111,
              "#46039f"
             ],
             [
              0.2222222222222222,
              "#7201a8"
             ],
             [
              0.3333333333333333,
              "#9c179e"
             ],
             [
              0.4444444444444444,
              "#bd3786"
             ],
             [
              0.5555555555555556,
              "#d8576b"
             ],
             [
              0.6666666666666666,
              "#ed7953"
             ],
             [
              0.7777777777777778,
              "#fb9f3a"
             ],
             [
              0.8888888888888888,
              "#fdca26"
             ],
             [
              1,
              "#f0f921"
             ]
            ],
            "type": "histogram2dcontour"
           }
          ],
          "mesh3d": [
           {
            "colorbar": {
             "outlinewidth": 0,
             "ticks": ""
            },
            "type": "mesh3d"
           }
          ],
          "parcoords": [
           {
            "line": {
             "colorbar": {
              "outlinewidth": 0,
              "ticks": ""
             }
            },
            "type": "parcoords"
           }
          ],
          "pie": [
           {
            "automargin": true,
            "type": "pie"
           }
          ],
          "scatter": [
           {
            "marker": {
             "colorbar": {
              "outlinewidth": 0,
              "ticks": ""
             }
            },
            "type": "scatter"
           }
          ],
          "scatter3d": [
           {
            "line": {
             "colorbar": {
              "outlinewidth": 0,
              "ticks": ""
             }
            },
            "marker": {
             "colorbar": {
              "outlinewidth": 0,
              "ticks": ""
             }
            },
            "type": "scatter3d"
           }
          ],
          "scattercarpet": [
           {
            "marker": {
             "colorbar": {
              "outlinewidth": 0,
              "ticks": ""
             }
            },
            "type": "scattercarpet"
           }
          ],
          "scattergeo": [
           {
            "marker": {
             "colorbar": {
              "outlinewidth": 0,
              "ticks": ""
             }
            },
            "type": "scattergeo"
           }
          ],
          "scattergl": [
           {
            "marker": {
             "colorbar": {
              "outlinewidth": 0,
              "ticks": ""
             }
            },
            "type": "scattergl"
           }
          ],
          "scattermapbox": [
           {
            "marker": {
             "colorbar": {
              "outlinewidth": 0,
              "ticks": ""
             }
            },
            "type": "scattermapbox"
           }
          ],
          "scatterpolar": [
           {
            "marker": {
             "colorbar": {
              "outlinewidth": 0,
              "ticks": ""
             }
            },
            "type": "scatterpolar"
           }
          ],
          "scatterpolargl": [
           {
            "marker": {
             "colorbar": {
              "outlinewidth": 0,
              "ticks": ""
             }
            },
            "type": "scatterpolargl"
           }
          ],
          "scatterternary": [
           {
            "marker": {
             "colorbar": {
              "outlinewidth": 0,
              "ticks": ""
             }
            },
            "type": "scatterternary"
           }
          ],
          "surface": [
           {
            "colorbar": {
             "outlinewidth": 0,
             "ticks": ""
            },
            "colorscale": [
             [
              0,
              "#0d0887"
             ],
             [
              0.1111111111111111,
              "#46039f"
             ],
             [
              0.2222222222222222,
              "#7201a8"
             ],
             [
              0.3333333333333333,
              "#9c179e"
             ],
             [
              0.4444444444444444,
              "#bd3786"
             ],
             [
              0.5555555555555556,
              "#d8576b"
             ],
             [
              0.6666666666666666,
              "#ed7953"
             ],
             [
              0.7777777777777778,
              "#fb9f3a"
             ],
             [
              0.8888888888888888,
              "#fdca26"
             ],
             [
              1,
              "#f0f921"
             ]
            ],
            "type": "surface"
           }
          ],
          "table": [
           {
            "cells": {
             "fill": {
              "color": "#EBF0F8"
             },
             "line": {
              "color": "white"
             }
            },
            "header": {
             "fill": {
              "color": "#C8D4E3"
             },
             "line": {
              "color": "white"
             }
            },
            "type": "table"
           }
          ]
         },
         "layout": {
          "annotationdefaults": {
           "arrowcolor": "#2a3f5f",
           "arrowhead": 0,
           "arrowwidth": 1
          },
          "autotypenumbers": "strict",
          "coloraxis": {
           "colorbar": {
            "outlinewidth": 0,
            "ticks": ""
           }
          },
          "colorscale": {
           "diverging": [
            [
             0,
             "#8e0152"
            ],
            [
             0.1,
             "#c51b7d"
            ],
            [
             0.2,
             "#de77ae"
            ],
            [
             0.3,
             "#f1b6da"
            ],
            [
             0.4,
             "#fde0ef"
            ],
            [
             0.5,
             "#f7f7f7"
            ],
            [
             0.6,
             "#e6f5d0"
            ],
            [
             0.7,
             "#b8e186"
            ],
            [
             0.8,
             "#7fbc41"
            ],
            [
             0.9,
             "#4d9221"
            ],
            [
             1,
             "#276419"
            ]
           ],
           "sequential": [
            [
             0,
             "#0d0887"
            ],
            [
             0.1111111111111111,
             "#46039f"
            ],
            [
             0.2222222222222222,
             "#7201a8"
            ],
            [
             0.3333333333333333,
             "#9c179e"
            ],
            [
             0.4444444444444444,
             "#bd3786"
            ],
            [
             0.5555555555555556,
             "#d8576b"
            ],
            [
             0.6666666666666666,
             "#ed7953"
            ],
            [
             0.7777777777777778,
             "#fb9f3a"
            ],
            [
             0.8888888888888888,
             "#fdca26"
            ],
            [
             1,
             "#f0f921"
            ]
           ],
           "sequentialminus": [
            [
             0,
             "#0d0887"
            ],
            [
             0.1111111111111111,
             "#46039f"
            ],
            [
             0.2222222222222222,
             "#7201a8"
            ],
            [
             0.3333333333333333,
             "#9c179e"
            ],
            [
             0.4444444444444444,
             "#bd3786"
            ],
            [
             0.5555555555555556,
             "#d8576b"
            ],
            [
             0.6666666666666666,
             "#ed7953"
            ],
            [
             0.7777777777777778,
             "#fb9f3a"
            ],
            [
             0.8888888888888888,
             "#fdca26"
            ],
            [
             1,
             "#f0f921"
            ]
           ]
          },
          "colorway": [
           "#636efa",
           "#EF553B",
           "#00cc96",
           "#ab63fa",
           "#FFA15A",
           "#19d3f3",
           "#FF6692",
           "#B6E880",
           "#FF97FF",
           "#FECB52"
          ],
          "font": {
           "color": "#2a3f5f"
          },
          "geo": {
           "bgcolor": "white",
           "lakecolor": "white",
           "landcolor": "#E5ECF6",
           "showlakes": true,
           "showland": true,
           "subunitcolor": "white"
          },
          "hoverlabel": {
           "align": "left"
          },
          "hovermode": "closest",
          "mapbox": {
           "style": "light"
          },
          "paper_bgcolor": "white",
          "plot_bgcolor": "#E5ECF6",
          "polar": {
           "angularaxis": {
            "gridcolor": "white",
            "linecolor": "white",
            "ticks": ""
           },
           "bgcolor": "#E5ECF6",
           "radialaxis": {
            "gridcolor": "white",
            "linecolor": "white",
            "ticks": ""
           }
          },
          "scene": {
           "xaxis": {
            "backgroundcolor": "#E5ECF6",
            "gridcolor": "white",
            "gridwidth": 2,
            "linecolor": "white",
            "showbackground": true,
            "ticks": "",
            "zerolinecolor": "white"
           },
           "yaxis": {
            "backgroundcolor": "#E5ECF6",
            "gridcolor": "white",
            "gridwidth": 2,
            "linecolor": "white",
            "showbackground": true,
            "ticks": "",
            "zerolinecolor": "white"
           },
           "zaxis": {
            "backgroundcolor": "#E5ECF6",
            "gridcolor": "white",
            "gridwidth": 2,
            "linecolor": "white",
            "showbackground": true,
            "ticks": "",
            "zerolinecolor": "white"
           }
          },
          "shapedefaults": {
           "line": {
            "color": "#2a3f5f"
           }
          },
          "ternary": {
           "aaxis": {
            "gridcolor": "white",
            "linecolor": "white",
            "ticks": ""
           },
           "baxis": {
            "gridcolor": "white",
            "linecolor": "white",
            "ticks": ""
           },
           "bgcolor": "#E5ECF6",
           "caxis": {
            "gridcolor": "white",
            "linecolor": "white",
            "ticks": ""
           }
          },
          "title": {
           "x": 0.05
          },
          "xaxis": {
           "automargin": true,
           "gridcolor": "white",
           "linecolor": "white",
           "ticks": "",
           "title": {
            "standoff": 15
           },
           "zerolinecolor": "white",
           "zerolinewidth": 2
          },
          "yaxis": {
           "automargin": true,
           "gridcolor": "white",
           "linecolor": "white",
           "ticks": "",
           "title": {
            "standoff": 15
           },
           "zerolinecolor": "white",
           "zerolinewidth": 2
          }
         }
        },
        "xaxis": {
         "showgrid": false
        },
        "yaxis": {
         "showgrid": false
        }
       }
      },
      "text/html": [
       "<div>                            <div id=\"eeb760bf-1888-4285-be58-e63085c6fac0\" class=\"plotly-graph-div\" style=\"height:750px; width:100%;\"></div>            <script type=\"text/javascript\">                require([\"plotly\"], function(Plotly) {                    window.PLOTLYENV=window.PLOTLYENV || {};                                    if (document.getElementById(\"eeb760bf-1888-4285-be58-e63085c6fac0\")) {                    Plotly.newPlot(                        \"eeb760bf-1888-4285-be58-e63085c6fac0\",                        [{\"cells\":{\"align\":\"center\",\"fill\":{\"color\":\"lavender\"},\"values\":[[\"Bambambamm\",\"Careful\",\"Clutchxd\",\"Darmar\",\"Elodi\\u00e9\",\"Fakemechanic\",\"Gezz\",\"Gr\\u00edzzly\",\"Halishock\",\"Massoud\",\"Nekmage\",\"Neryxsp\",\"Onenighter\",\"Pickenicke\",\"Prefertocat\",\"R\\u00f8chelle\",\"Savagebeep\",\"Shadowkind\",\"Shinebr\\u00efght\",\"Steffx\",\"Streaming\",\"Unstopp\\u00e0ble\",\"\\u00c9t\",\"\\u00cbmillion\",\"\\u00ccnvinity\"],[2336,2010,2242,2403,2242,2242,2767,1922,2242,273,2063,2242,1211,2242,2418,2432,2050,2242,2418,2393,2620,1644,1837,1847,2418]]},\"columnwidth\":[80,80],\"header\":{\"align\":\"center\",\"fill\":{\"color\":\"paleturquoise\"},\"values\":[\"Name\",\" Cut\"]},\"type\":\"table\"}],                        {\"height\":750,\"paper_bgcolor\":\"white\",\"template\":{\"data\":{\"barpolar\":[{\"marker\":{\"line\":{\"color\":\"#E5ECF6\",\"width\":0.5},\"pattern\":{\"fillmode\":\"overlay\",\"size\":10,\"solidity\":0.2}},\"type\":\"barpolar\"}],\"bar\":[{\"error_x\":{\"color\":\"#2a3f5f\"},\"error_y\":{\"color\":\"#2a3f5f\"},\"marker\":{\"line\":{\"color\":\"#E5ECF6\",\"width\":0.5},\"pattern\":{\"fillmode\":\"overlay\",\"size\":10,\"solidity\":0.2}},\"type\":\"bar\"}],\"carpet\":[{\"aaxis\":{\"endlinecolor\":\"#2a3f5f\",\"gridcolor\":\"white\",\"linecolor\":\"white\",\"minorgridcolor\":\"white\",\"startlinecolor\":\"#2a3f5f\"},\"baxis\":{\"endlinecolor\":\"#2a3f5f\",\"gridcolor\":\"white\",\"linecolor\":\"white\",\"minorgridcolor\":\"white\",\"startlinecolor\":\"#2a3f5f\"},\"type\":\"carpet\"}],\"choropleth\":[{\"colorbar\":{\"outlinewidth\":0,\"ticks\":\"\"},\"type\":\"choropleth\"}],\"contourcarpet\":[{\"colorbar\":{\"outlinewidth\":0,\"ticks\":\"\"},\"type\":\"contourcarpet\"}],\"contour\":[{\"colorbar\":{\"outlinewidth\":0,\"ticks\":\"\"},\"colorscale\":[[0.0,\"#0d0887\"],[0.1111111111111111,\"#46039f\"],[0.2222222222222222,\"#7201a8\"],[0.3333333333333333,\"#9c179e\"],[0.4444444444444444,\"#bd3786\"],[0.5555555555555556,\"#d8576b\"],[0.6666666666666666,\"#ed7953\"],[0.7777777777777778,\"#fb9f3a\"],[0.8888888888888888,\"#fdca26\"],[1.0,\"#f0f921\"]],\"type\":\"contour\"}],\"heatmapgl\":[{\"colorbar\":{\"outlinewidth\":0,\"ticks\":\"\"},\"colorscale\":[[0.0,\"#0d0887\"],[0.1111111111111111,\"#46039f\"],[0.2222222222222222,\"#7201a8\"],[0.3333333333333333,\"#9c179e\"],[0.4444444444444444,\"#bd3786\"],[0.5555555555555556,\"#d8576b\"],[0.6666666666666666,\"#ed7953\"],[0.7777777777777778,\"#fb9f3a\"],[0.8888888888888888,\"#fdca26\"],[1.0,\"#f0f921\"]],\"type\":\"heatmapgl\"}],\"heatmap\":[{\"colorbar\":{\"outlinewidth\":0,\"ticks\":\"\"},\"colorscale\":[[0.0,\"#0d0887\"],[0.1111111111111111,\"#46039f\"],[0.2222222222222222,\"#7201a8\"],[0.3333333333333333,\"#9c179e\"],[0.4444444444444444,\"#bd3786\"],[0.5555555555555556,\"#d8576b\"],[0.6666666666666666,\"#ed7953\"],[0.7777777777777778,\"#fb9f3a\"],[0.8888888888888888,\"#fdca26\"],[1.0,\"#f0f921\"]],\"type\":\"heatmap\"}],\"histogram2dcontour\":[{\"colorbar\":{\"outlinewidth\":0,\"ticks\":\"\"},\"colorscale\":[[0.0,\"#0d0887\"],[0.1111111111111111,\"#46039f\"],[0.2222222222222222,\"#7201a8\"],[0.3333333333333333,\"#9c179e\"],[0.4444444444444444,\"#bd3786\"],[0.5555555555555556,\"#d8576b\"],[0.6666666666666666,\"#ed7953\"],[0.7777777777777778,\"#fb9f3a\"],[0.8888888888888888,\"#fdca26\"],[1.0,\"#f0f921\"]],\"type\":\"histogram2dcontour\"}],\"histogram2d\":[{\"colorbar\":{\"outlinewidth\":0,\"ticks\":\"\"},\"colorscale\":[[0.0,\"#0d0887\"],[0.1111111111111111,\"#46039f\"],[0.2222222222222222,\"#7201a8\"],[0.3333333333333333,\"#9c179e\"],[0.4444444444444444,\"#bd3786\"],[0.5555555555555556,\"#d8576b\"],[0.6666666666666666,\"#ed7953\"],[0.7777777777777778,\"#fb9f3a\"],[0.8888888888888888,\"#fdca26\"],[1.0,\"#f0f921\"]],\"type\":\"histogram2d\"}],\"histogram\":[{\"marker\":{\"pattern\":{\"fillmode\":\"overlay\",\"size\":10,\"solidity\":0.2}},\"type\":\"histogram\"}],\"mesh3d\":[{\"colorbar\":{\"outlinewidth\":0,\"ticks\":\"\"},\"type\":\"mesh3d\"}],\"parcoords\":[{\"line\":{\"colorbar\":{\"outlinewidth\":0,\"ticks\":\"\"}},\"type\":\"parcoords\"}],\"pie\":[{\"automargin\":true,\"type\":\"pie\"}],\"scatter3d\":[{\"line\":{\"colorbar\":{\"outlinewidth\":0,\"ticks\":\"\"}},\"marker\":{\"colorbar\":{\"outlinewidth\":0,\"ticks\":\"\"}},\"type\":\"scatter3d\"}],\"scattercarpet\":[{\"marker\":{\"colorbar\":{\"outlinewidth\":0,\"ticks\":\"\"}},\"type\":\"scattercarpet\"}],\"scattergeo\":[{\"marker\":{\"colorbar\":{\"outlinewidth\":0,\"ticks\":\"\"}},\"type\":\"scattergeo\"}],\"scattergl\":[{\"marker\":{\"colorbar\":{\"outlinewidth\":0,\"ticks\":\"\"}},\"type\":\"scattergl\"}],\"scattermapbox\":[{\"marker\":{\"colorbar\":{\"outlinewidth\":0,\"ticks\":\"\"}},\"type\":\"scattermapbox\"}],\"scatterpolargl\":[{\"marker\":{\"colorbar\":{\"outlinewidth\":0,\"ticks\":\"\"}},\"type\":\"scatterpolargl\"}],\"scatterpolar\":[{\"marker\":{\"colorbar\":{\"outlinewidth\":0,\"ticks\":\"\"}},\"type\":\"scatterpolar\"}],\"scatter\":[{\"marker\":{\"colorbar\":{\"outlinewidth\":0,\"ticks\":\"\"}},\"type\":\"scatter\"}],\"scatterternary\":[{\"marker\":{\"colorbar\":{\"outlinewidth\":0,\"ticks\":\"\"}},\"type\":\"scatterternary\"}],\"surface\":[{\"colorbar\":{\"outlinewidth\":0,\"ticks\":\"\"},\"colorscale\":[[0.0,\"#0d0887\"],[0.1111111111111111,\"#46039f\"],[0.2222222222222222,\"#7201a8\"],[0.3333333333333333,\"#9c179e\"],[0.4444444444444444,\"#bd3786\"],[0.5555555555555556,\"#d8576b\"],[0.6666666666666666,\"#ed7953\"],[0.7777777777777778,\"#fb9f3a\"],[0.8888888888888888,\"#fdca26\"],[1.0,\"#f0f921\"]],\"type\":\"surface\"}],\"table\":[{\"cells\":{\"fill\":{\"color\":\"#EBF0F8\"},\"line\":{\"color\":\"white\"}},\"header\":{\"fill\":{\"color\":\"#C8D4E3\"},\"line\":{\"color\":\"white\"}},\"type\":\"table\"}]},\"layout\":{\"annotationdefaults\":{\"arrowcolor\":\"#2a3f5f\",\"arrowhead\":0,\"arrowwidth\":1},\"autotypenumbers\":\"strict\",\"coloraxis\":{\"colorbar\":{\"outlinewidth\":0,\"ticks\":\"\"}},\"colorscale\":{\"diverging\":[[0,\"#8e0152\"],[0.1,\"#c51b7d\"],[0.2,\"#de77ae\"],[0.3,\"#f1b6da\"],[0.4,\"#fde0ef\"],[0.5,\"#f7f7f7\"],[0.6,\"#e6f5d0\"],[0.7,\"#b8e186\"],[0.8,\"#7fbc41\"],[0.9,\"#4d9221\"],[1,\"#276419\"]],\"sequential\":[[0.0,\"#0d0887\"],[0.1111111111111111,\"#46039f\"],[0.2222222222222222,\"#7201a8\"],[0.3333333333333333,\"#9c179e\"],[0.4444444444444444,\"#bd3786\"],[0.5555555555555556,\"#d8576b\"],[0.6666666666666666,\"#ed7953\"],[0.7777777777777778,\"#fb9f3a\"],[0.8888888888888888,\"#fdca26\"],[1.0,\"#f0f921\"]],\"sequentialminus\":[[0.0,\"#0d0887\"],[0.1111111111111111,\"#46039f\"],[0.2222222222222222,\"#7201a8\"],[0.3333333333333333,\"#9c179e\"],[0.4444444444444444,\"#bd3786\"],[0.5555555555555556,\"#d8576b\"],[0.6666666666666666,\"#ed7953\"],[0.7777777777777778,\"#fb9f3a\"],[0.8888888888888888,\"#fdca26\"],[1.0,\"#f0f921\"]]},\"colorway\":[\"#636efa\",\"#EF553B\",\"#00cc96\",\"#ab63fa\",\"#FFA15A\",\"#19d3f3\",\"#FF6692\",\"#B6E880\",\"#FF97FF\",\"#FECB52\"],\"font\":{\"color\":\"#2a3f5f\"},\"geo\":{\"bgcolor\":\"white\",\"lakecolor\":\"white\",\"landcolor\":\"#E5ECF6\",\"showlakes\":true,\"showland\":true,\"subunitcolor\":\"white\"},\"hoverlabel\":{\"align\":\"left\"},\"hovermode\":\"closest\",\"mapbox\":{\"style\":\"light\"},\"paper_bgcolor\":\"white\",\"plot_bgcolor\":\"#E5ECF6\",\"polar\":{\"angularaxis\":{\"gridcolor\":\"white\",\"linecolor\":\"white\",\"ticks\":\"\"},\"bgcolor\":\"#E5ECF6\",\"radialaxis\":{\"gridcolor\":\"white\",\"linecolor\":\"white\",\"ticks\":\"\"}},\"scene\":{\"xaxis\":{\"backgroundcolor\":\"#E5ECF6\",\"gridcolor\":\"white\",\"gridwidth\":2,\"linecolor\":\"white\",\"showbackground\":true,\"ticks\":\"\",\"zerolinecolor\":\"white\"},\"yaxis\":{\"backgroundcolor\":\"#E5ECF6\",\"gridcolor\":\"white\",\"gridwidth\":2,\"linecolor\":\"white\",\"showbackground\":true,\"ticks\":\"\",\"zerolinecolor\":\"white\"},\"zaxis\":{\"backgroundcolor\":\"#E5ECF6\",\"gridcolor\":\"white\",\"gridwidth\":2,\"linecolor\":\"white\",\"showbackground\":true,\"ticks\":\"\",\"zerolinecolor\":\"white\"}},\"shapedefaults\":{\"line\":{\"color\":\"#2a3f5f\"}},\"ternary\":{\"aaxis\":{\"gridcolor\":\"white\",\"linecolor\":\"white\",\"ticks\":\"\"},\"baxis\":{\"gridcolor\":\"white\",\"linecolor\":\"white\",\"ticks\":\"\"},\"bgcolor\":\"#E5ECF6\",\"caxis\":{\"gridcolor\":\"white\",\"linecolor\":\"white\",\"ticks\":\"\"}},\"title\":{\"x\":0.05},\"xaxis\":{\"automargin\":true,\"gridcolor\":\"white\",\"linecolor\":\"white\",\"ticks\":\"\",\"title\":{\"standoff\":15},\"zerolinecolor\":\"white\",\"zerolinewidth\":2},\"yaxis\":{\"automargin\":true,\"gridcolor\":\"white\",\"linecolor\":\"white\",\"ticks\":\"\",\"title\":{\"standoff\":15},\"zerolinecolor\":\"white\",\"zerolinewidth\":2}}},\"xaxis\":{\"showgrid\":false},\"yaxis\":{\"showgrid\":false}},                        {\"responsive\": true}                    ).then(function(){\n",
       "                            \n",
       "var gd = document.getElementById('eeb760bf-1888-4285-be58-e63085c6fac0');\n",
       "var x = new MutationObserver(function (mutations, observer) {{\n",
       "        var display = window.getComputedStyle(gd).display;\n",
       "        if (!display || display === 'none') {{\n",
       "            console.log([gd, 'removed!']);\n",
       "            Plotly.purge(gd);\n",
       "            observer.disconnect();\n",
       "        }}\n",
       "}});\n",
       "\n",
       "// Listen for the removal of the full notebook cells\n",
       "var notebookContainer = gd.closest('#notebook-container');\n",
       "if (notebookContainer) {{\n",
       "    x.observe(notebookContainer, {childList: true});\n",
       "}}\n",
       "\n",
       "// Listen for the clearing of the current output cell\n",
       "var outputEl = gd.closest('.output');\n",
       "if (outputEl) {{\n",
       "    x.observe(outputEl, {childList: true});\n",
       "}}\n",
       "\n",
       "                        })                };                });            </script>        </div>"
      ]
     },
     "metadata": {},
     "output_type": "display_data"
    },
    {
     "data": {
      "text/plain": [
       "{'spreadsheetId': '1Wb0BMdjrFN6vkcAnvIP9dlVomUL4YM-qK2bL96vIACQ',\n",
       " 'updatedRange': \"'Python API'!A1:O26\",\n",
       " 'updatedRows': 26,\n",
       " 'updatedColumns': 15,\n",
       " 'updatedCells': 390}"
      ]
     },
     "execution_count": 68,
     "metadata": {},
     "output_type": "execute_result"
    }
   ],
   "source": [
    "fatMonies = GDKPCalcuator(\n",
    "    \n",
    "                      warcraftLogURL = \"https://tbc.warcraftlogs.com/reports/PCkcgzN6r7XqMF82\", \n",
    "                      pot = 62050, \n",
    "                      management = 0.15,\n",
    "                      tankCut = 0.1375, \n",
    "                      healerCut = 0.2975, \n",
    "                      noOfTanks = 3,\n",
    "                      noOfHealers = 7,\n",
    "                      namesToRemove = [\"Blindman\",\"Jshadylock\"],\n",
    "                      bonusCutsDict = {\n",
    "                                      \"Streaming\" : 0.003,\n",
    "                                      \"Gezz\" : 0.003, \n",
    "                                      \n",
    "                                      },\n",
    "                      deductionsCutsDict = {\n",
    "                                            \n",
    "                                           }\n",
    "                    )\n",
    "\n",
    "\n",
    "fatMonies.printDFClean()\n",
    "\n",
    "gc = gspread.service_account(filename='gdkp-performance-2069da9ef7b9.json')\n",
    "sh = gc.open(\"LR GDKP\")\n",
    "worksheet = sh.worksheet(\"Python API\")\n",
    "df = fatMonies.df.sort_values(by=['Role'],ascending=False).reset_index(level=0).fillna(0)\n",
    "worksheet.clear()\n",
    "worksheet.update([df.columns.values.tolist()] + df.values.tolist())"
   ]
  },
  {
   "cell_type": "code",
   "execution_count": 42,
   "id": "e5e00414",
   "metadata": {
    "scrolled": false
   },
   "outputs": [
    {
     "data": {
      "text/html": [
       "<div>\n",
       "<style scoped>\n",
       "    .dataframe tbody tr th:only-of-type {\n",
       "        vertical-align: middle;\n",
       "    }\n",
       "\n",
       "    .dataframe tbody tr th {\n",
       "        vertical-align: top;\n",
       "    }\n",
       "\n",
       "    .dataframe thead th {\n",
       "        text-align: right;\n",
       "    }\n",
       "</style>\n",
       "<table border=\"1\" class=\"dataframe\">\n",
       "  <thead>\n",
       "    <tr style=\"text-align: right;\">\n",
       "      <th></th>\n",
       "      <th>Class</th>\n",
       "      <th>Spec</th>\n",
       "      <th>Damage Done</th>\n",
       "      <th>Healing Done</th>\n",
       "      <th>Damage Taken</th>\n",
       "      <th>Role</th>\n",
       "      <th>Percentage Damage</th>\n",
       "      <th>Damage Cut</th>\n",
       "      <th>Tank Cut</th>\n",
       "      <th>Healer Cut</th>\n",
       "      <th>Support Cut</th>\n",
       "      <th>Bonus Cut</th>\n",
       "      <th>Deductions</th>\n",
       "      <th>Total Cut</th>\n",
       "    </tr>\n",
       "    <tr>\n",
       "      <th>Name</th>\n",
       "      <th></th>\n",
       "      <th></th>\n",
       "      <th></th>\n",
       "      <th></th>\n",
       "      <th></th>\n",
       "      <th></th>\n",
       "      <th></th>\n",
       "      <th></th>\n",
       "      <th></th>\n",
       "      <th></th>\n",
       "      <th></th>\n",
       "      <th></th>\n",
       "      <th></th>\n",
       "      <th></th>\n",
       "    </tr>\n",
       "  </thead>\n",
       "  <tbody>\n",
       "    <tr>\n",
       "      <th>Bambambamm</th>\n",
       "      <td>Shaman</td>\n",
       "      <td>Shaman-Enhancement</td>\n",
       "      <td>5100918.0</td>\n",
       "      <td>17992</td>\n",
       "      <td>737782</td>\n",
       "      <td>DPS</td>\n",
       "      <td>0.062909</td>\n",
       "      <td>1620.845070</td>\n",
       "      <td>0.000000</td>\n",
       "      <td>0.00000</td>\n",
       "      <td>659.28125</td>\n",
       "      <td>0.0000</td>\n",
       "      <td>-0.0</td>\n",
       "      <td>2281</td>\n",
       "    </tr>\n",
       "    <tr>\n",
       "      <th>Blindman</th>\n",
       "      <td>Unknown</td>\n",
       "      <td>Unknown</td>\n",
       "      <td>NaN</td>\n",
       "      <td>153</td>\n",
       "      <td>153</td>\n",
       "      <td>DPS</td>\n",
       "      <td>0.000000</td>\n",
       "      <td>0.000000</td>\n",
       "      <td>0.000000</td>\n",
       "      <td>0.00000</td>\n",
       "      <td>0.00000</td>\n",
       "      <td>0.0000</td>\n",
       "      <td>-0.0</td>\n",
       "      <td>0</td>\n",
       "    </tr>\n",
       "    <tr>\n",
       "      <th>Careful</th>\n",
       "      <td>Rogue</td>\n",
       "      <td>Rogue-Combat</td>\n",
       "      <td>6116333.0</td>\n",
       "      <td>61115</td>\n",
       "      <td>720226</td>\n",
       "      <td>DPS</td>\n",
       "      <td>0.075433</td>\n",
       "      <td>1943.498835</td>\n",
       "      <td>0.000000</td>\n",
       "      <td>0.00000</td>\n",
       "      <td>0.00000</td>\n",
       "      <td>0.0000</td>\n",
       "      <td>-0.0</td>\n",
       "      <td>1944</td>\n",
       "    </tr>\n",
       "    <tr>\n",
       "      <th>Clutchxd</th>\n",
       "      <td>Druid</td>\n",
       "      <td>Druid-Restoration</td>\n",
       "      <td>NaN</td>\n",
       "      <td>3175866</td>\n",
       "      <td>720724</td>\n",
       "      <td>Healer</td>\n",
       "      <td>0.000000</td>\n",
       "      <td>0.000000</td>\n",
       "      <td>0.000000</td>\n",
       "      <td>2241.55625</td>\n",
       "      <td>0.00000</td>\n",
       "      <td>0.0000</td>\n",
       "      <td>-0.0</td>\n",
       "      <td>2242</td>\n",
       "    </tr>\n",
       "    <tr>\n",
       "      <th>Darmar</th>\n",
       "      <td>Shaman</td>\n",
       "      <td>Shaman-Elemental</td>\n",
       "      <td>5303996.0</td>\n",
       "      <td>19132</td>\n",
       "      <td>655696</td>\n",
       "      <td>DPS</td>\n",
       "      <td>0.065414</td>\n",
       "      <td>1685.374234</td>\n",
       "      <td>0.000000</td>\n",
       "      <td>0.00000</td>\n",
       "      <td>659.28125</td>\n",
       "      <td>0.0000</td>\n",
       "      <td>-0.0</td>\n",
       "      <td>2345</td>\n",
       "    </tr>\n",
       "    <tr>\n",
       "      <th>Elodié</th>\n",
       "      <td>Paladin</td>\n",
       "      <td>Paladin-Holy</td>\n",
       "      <td>2011.0</td>\n",
       "      <td>1924975</td>\n",
       "      <td>730596</td>\n",
       "      <td>Healer</td>\n",
       "      <td>0.000000</td>\n",
       "      <td>0.000000</td>\n",
       "      <td>0.000000</td>\n",
       "      <td>2241.55625</td>\n",
       "      <td>0.00000</td>\n",
       "      <td>0.0000</td>\n",
       "      <td>-0.0</td>\n",
       "      <td>2242</td>\n",
       "    </tr>\n",
       "    <tr>\n",
       "      <th>Fakemechanic</th>\n",
       "      <td>Shaman</td>\n",
       "      <td>Shaman-Restoration</td>\n",
       "      <td>43388.0</td>\n",
       "      <td>3074179</td>\n",
       "      <td>573931</td>\n",
       "      <td>Healer</td>\n",
       "      <td>0.000000</td>\n",
       "      <td>0.000000</td>\n",
       "      <td>0.000000</td>\n",
       "      <td>2241.55625</td>\n",
       "      <td>0.00000</td>\n",
       "      <td>0.0000</td>\n",
       "      <td>-0.0</td>\n",
       "      <td>2242</td>\n",
       "    </tr>\n",
       "    <tr>\n",
       "      <th>Gezz</th>\n",
       "      <td>Warlock</td>\n",
       "      <td>Warlock-Destruction</td>\n",
       "      <td>7541233.0</td>\n",
       "      <td>117864</td>\n",
       "      <td>623601</td>\n",
       "      <td>DPS</td>\n",
       "      <td>0.093006</td>\n",
       "      <td>2525.092292</td>\n",
       "      <td>0.000000</td>\n",
       "      <td>0.00000</td>\n",
       "      <td>0.00000</td>\n",
       "      <td>158.2275</td>\n",
       "      <td>-0.0</td>\n",
       "      <td>2684</td>\n",
       "    </tr>\n",
       "    <tr>\n",
       "      <th>Grízzly</th>\n",
       "      <td>Druid</td>\n",
       "      <td>Druid-Balance</td>\n",
       "      <td>3840241.0</td>\n",
       "      <td>24720</td>\n",
       "      <td>690972</td>\n",
       "      <td>DPS</td>\n",
       "      <td>0.047362</td>\n",
       "      <td>1220.257940</td>\n",
       "      <td>0.000000</td>\n",
       "      <td>0.00000</td>\n",
       "      <td>659.28125</td>\n",
       "      <td>0.0000</td>\n",
       "      <td>-0.0</td>\n",
       "      <td>1880</td>\n",
       "    </tr>\n",
       "    <tr>\n",
       "      <th>Halishock</th>\n",
       "      <td>Shaman</td>\n",
       "      <td>Shaman-Restoration</td>\n",
       "      <td>947.0</td>\n",
       "      <td>3151588</td>\n",
       "      <td>632794</td>\n",
       "      <td>Healer</td>\n",
       "      <td>0.000000</td>\n",
       "      <td>0.000000</td>\n",
       "      <td>0.000000</td>\n",
       "      <td>2241.55625</td>\n",
       "      <td>0.00000</td>\n",
       "      <td>0.0000</td>\n",
       "      <td>-0.0</td>\n",
       "      <td>2242</td>\n",
       "    </tr>\n",
       "    <tr>\n",
       "      <th>Jshadylock</th>\n",
       "      <td>Warlock</td>\n",
       "      <td>Warlock-Destruction</td>\n",
       "      <td>2198779.0</td>\n",
       "      <td>36167</td>\n",
       "      <td>221770</td>\n",
       "      <td>DPS</td>\n",
       "      <td>0.027117</td>\n",
       "      <td>698.674259</td>\n",
       "      <td>0.000000</td>\n",
       "      <td>0.00000</td>\n",
       "      <td>0.00000</td>\n",
       "      <td>0.0000</td>\n",
       "      <td>-0.0</td>\n",
       "      <td>699</td>\n",
       "    </tr>\n",
       "    <tr>\n",
       "      <th>Massoud</th>\n",
       "      <td>Warrior</td>\n",
       "      <td>Warrior-Arms</td>\n",
       "      <td>1222371.0</td>\n",
       "      <td>86570</td>\n",
       "      <td>853896</td>\n",
       "      <td>DPS</td>\n",
       "      <td>0.015075</td>\n",
       "      <td>259.591629</td>\n",
       "      <td>0.000000</td>\n",
       "      <td>0.00000</td>\n",
       "      <td>0.00000</td>\n",
       "      <td>0.0000</td>\n",
       "      <td>-0.0</td>\n",
       "      <td>260</td>\n",
       "    </tr>\n",
       "    <tr>\n",
       "      <th>Nekmage</th>\n",
       "      <td>Mage</td>\n",
       "      <td>Mage-Arcane</td>\n",
       "      <td>6277194.0</td>\n",
       "      <td>11802</td>\n",
       "      <td>788326</td>\n",
       "      <td>DPS</td>\n",
       "      <td>0.077416</td>\n",
       "      <td>1994.613312</td>\n",
       "      <td>0.000000</td>\n",
       "      <td>0.00000</td>\n",
       "      <td>0.00000</td>\n",
       "      <td>0.0000</td>\n",
       "      <td>-0.0</td>\n",
       "      <td>1995</td>\n",
       "    </tr>\n",
       "    <tr>\n",
       "      <th>Neryxsp</th>\n",
       "      <td>Priest</td>\n",
       "      <td>Priest-Discipline</td>\n",
       "      <td>73018.0</td>\n",
       "      <td>3445144</td>\n",
       "      <td>697703</td>\n",
       "      <td>Healer</td>\n",
       "      <td>0.000000</td>\n",
       "      <td>0.000000</td>\n",
       "      <td>0.000000</td>\n",
       "      <td>2241.55625</td>\n",
       "      <td>0.00000</td>\n",
       "      <td>0.0000</td>\n",
       "      <td>-0.0</td>\n",
       "      <td>2242</td>\n",
       "    </tr>\n",
       "    <tr>\n",
       "      <th>Onenighter</th>\n",
       "      <td>Rogue</td>\n",
       "      <td>Rogue-Combat</td>\n",
       "      <td>3682224.0</td>\n",
       "      <td>51801</td>\n",
       "      <td>853088</td>\n",
       "      <td>DPS</td>\n",
       "      <td>0.045413</td>\n",
       "      <td>1170.047159</td>\n",
       "      <td>0.000000</td>\n",
       "      <td>0.00000</td>\n",
       "      <td>0.00000</td>\n",
       "      <td>0.0000</td>\n",
       "      <td>-0.0</td>\n",
       "      <td>1171</td>\n",
       "    </tr>\n",
       "    <tr>\n",
       "      <th>Pickenicke</th>\n",
       "      <td>Shaman</td>\n",
       "      <td>Shaman-Restoration</td>\n",
       "      <td>2714.0</td>\n",
       "      <td>4551313</td>\n",
       "      <td>606646</td>\n",
       "      <td>Healer</td>\n",
       "      <td>0.000000</td>\n",
       "      <td>0.000000</td>\n",
       "      <td>0.000000</td>\n",
       "      <td>2241.55625</td>\n",
       "      <td>0.00000</td>\n",
       "      <td>0.0000</td>\n",
       "      <td>-0.0</td>\n",
       "      <td>2242</td>\n",
       "    </tr>\n",
       "    <tr>\n",
       "      <th>Prefertocat</th>\n",
       "      <td>Druid</td>\n",
       "      <td>Druid</td>\n",
       "      <td>3485760.0</td>\n",
       "      <td>162990</td>\n",
       "      <td>1711469</td>\n",
       "      <td>Tank</td>\n",
       "      <td>0.000000</td>\n",
       "      <td>0.000000</td>\n",
       "      <td>2417.364583</td>\n",
       "      <td>0.00000</td>\n",
       "      <td>0.00000</td>\n",
       "      <td>0.0000</td>\n",
       "      <td>-0.0</td>\n",
       "      <td>2418</td>\n",
       "    </tr>\n",
       "    <tr>\n",
       "      <th>Røchelle</th>\n",
       "      <td>Warlock</td>\n",
       "      <td>Warlock-Destruction</td>\n",
       "      <td>7400336.0</td>\n",
       "      <td>104990</td>\n",
       "      <td>604155</td>\n",
       "      <td>DPS</td>\n",
       "      <td>0.091268</td>\n",
       "      <td>2351.497930</td>\n",
       "      <td>0.000000</td>\n",
       "      <td>0.00000</td>\n",
       "      <td>0.00000</td>\n",
       "      <td>0.0000</td>\n",
       "      <td>-0.0</td>\n",
       "      <td>2352</td>\n",
       "    </tr>\n",
       "    <tr>\n",
       "      <th>Savagebeep</th>\n",
       "      <td>Warrior</td>\n",
       "      <td>Warrior-Fury</td>\n",
       "      <td>6236420.0</td>\n",
       "      <td>32166</td>\n",
       "      <td>788601</td>\n",
       "      <td>DPS</td>\n",
       "      <td>0.076914</td>\n",
       "      <td>1981.657147</td>\n",
       "      <td>0.000000</td>\n",
       "      <td>0.00000</td>\n",
       "      <td>0.00000</td>\n",
       "      <td>0.0000</td>\n",
       "      <td>-0.0</td>\n",
       "      <td>1982</td>\n",
       "    </tr>\n",
       "    <tr>\n",
       "      <th>Shadowkind</th>\n",
       "      <td>Shaman</td>\n",
       "      <td>Shaman-Restoration</td>\n",
       "      <td>56969.0</td>\n",
       "      <td>3424201</td>\n",
       "      <td>705807</td>\n",
       "      <td>Healer</td>\n",
       "      <td>0.000000</td>\n",
       "      <td>0.000000</td>\n",
       "      <td>0.000000</td>\n",
       "      <td>2241.55625</td>\n",
       "      <td>0.00000</td>\n",
       "      <td>0.0000</td>\n",
       "      <td>-0.0</td>\n",
       "      <td>2242</td>\n",
       "    </tr>\n",
       "    <tr>\n",
       "      <th>Shinebrïght</th>\n",
       "      <td>Druid</td>\n",
       "      <td>Druid</td>\n",
       "      <td>3201200.0</td>\n",
       "      <td>152307</td>\n",
       "      <td>3231640</td>\n",
       "      <td>Tank</td>\n",
       "      <td>0.000000</td>\n",
       "      <td>0.000000</td>\n",
       "      <td>2417.364583</td>\n",
       "      <td>0.00000</td>\n",
       "      <td>0.00000</td>\n",
       "      <td>0.0000</td>\n",
       "      <td>-0.0</td>\n",
       "      <td>2418</td>\n",
       "    </tr>\n",
       "    <tr>\n",
       "      <th>Steffx</th>\n",
       "      <td>Priest</td>\n",
       "      <td>Priest-Shadow</td>\n",
       "      <td>4470550.0</td>\n",
       "      <td>1118802</td>\n",
       "      <td>801833</td>\n",
       "      <td>DPS</td>\n",
       "      <td>0.055135</td>\n",
       "      <td>1420.542131</td>\n",
       "      <td>0.000000</td>\n",
       "      <td>0.00000</td>\n",
       "      <td>922.99375</td>\n",
       "      <td>0.0000</td>\n",
       "      <td>-0.0</td>\n",
       "      <td>2344</td>\n",
       "    </tr>\n",
       "    <tr>\n",
       "      <th>Streaming</th>\n",
       "      <td>Warlock</td>\n",
       "      <td>Warlock-Destruction</td>\n",
       "      <td>7490117.0</td>\n",
       "      <td>134097</td>\n",
       "      <td>662172</td>\n",
       "      <td>DPS</td>\n",
       "      <td>0.092375</td>\n",
       "      <td>2380.026343</td>\n",
       "      <td>0.000000</td>\n",
       "      <td>0.00000</td>\n",
       "      <td>0.00000</td>\n",
       "      <td>158.2275</td>\n",
       "      <td>-0.0</td>\n",
       "      <td>2539</td>\n",
       "    </tr>\n",
       "    <tr>\n",
       "      <th>Unstoppàble</th>\n",
       "      <td>Paladin</td>\n",
       "      <td>Paladin-Retribution</td>\n",
       "      <td>2994849.0</td>\n",
       "      <td>21406</td>\n",
       "      <td>534858</td>\n",
       "      <td>DPS</td>\n",
       "      <td>0.036935</td>\n",
       "      <td>951.629929</td>\n",
       "      <td>0.000000</td>\n",
       "      <td>0.00000</td>\n",
       "      <td>659.28125</td>\n",
       "      <td>0.0000</td>\n",
       "      <td>-0.0</td>\n",
       "      <td>1611</td>\n",
       "    </tr>\n",
       "    <tr>\n",
       "      <th>Ét</th>\n",
       "      <td>Warlock</td>\n",
       "      <td>Warlock-Destruction</td>\n",
       "      <td>5588449.0</td>\n",
       "      <td>27774</td>\n",
       "      <td>674553</td>\n",
       "      <td>DPS</td>\n",
       "      <td>0.068922</td>\n",
       "      <td>1775.760757</td>\n",
       "      <td>0.000000</td>\n",
       "      <td>0.00000</td>\n",
       "      <td>0.00000</td>\n",
       "      <td>0.0000</td>\n",
       "      <td>-0.0</td>\n",
       "      <td>1776</td>\n",
       "    </tr>\n",
       "    <tr>\n",
       "      <th>Ëmillion</th>\n",
       "      <td>Mage</td>\n",
       "      <td>Mage-Arcane</td>\n",
       "      <td>5619421.0</td>\n",
       "      <td>1618</td>\n",
       "      <td>560396</td>\n",
       "      <td>DPS</td>\n",
       "      <td>0.069304</td>\n",
       "      <td>1785.602282</td>\n",
       "      <td>0.000000</td>\n",
       "      <td>0.00000</td>\n",
       "      <td>0.00000</td>\n",
       "      <td>0.0000</td>\n",
       "      <td>-0.0</td>\n",
       "      <td>1786</td>\n",
       "    </tr>\n",
       "    <tr>\n",
       "      <th>Ìnvinity</th>\n",
       "      <td>Paladin</td>\n",
       "      <td>Paladin</td>\n",
       "      <td>2226731.0</td>\n",
       "      <td>228148</td>\n",
       "      <td>4337165</td>\n",
       "      <td>Tank</td>\n",
       "      <td>0.000000</td>\n",
       "      <td>0.000000</td>\n",
       "      <td>2417.364583</td>\n",
       "      <td>0.00000</td>\n",
       "      <td>0.00000</td>\n",
       "      <td>0.0000</td>\n",
       "      <td>-0.0</td>\n",
       "      <td>2418</td>\n",
       "    </tr>\n",
       "  </tbody>\n",
       "</table>\n",
       "</div>"
      ],
      "text/plain": [
       "                Class                 Spec  Damage Done  Healing Done  \\\n",
       "Name                                                                    \n",
       "Bambambamm     Shaman   Shaman-Enhancement    5100918.0         17992   \n",
       "Blindman      Unknown              Unknown          NaN           153   \n",
       "Careful         Rogue         Rogue-Combat    6116333.0         61115   \n",
       "Clutchxd        Druid    Druid-Restoration          NaN       3175866   \n",
       "Darmar         Shaman     Shaman-Elemental    5303996.0         19132   \n",
       "Elodié        Paladin         Paladin-Holy       2011.0       1924975   \n",
       "Fakemechanic   Shaman   Shaman-Restoration      43388.0       3074179   \n",
       "Gezz          Warlock  Warlock-Destruction    7541233.0        117864   \n",
       "Grízzly         Druid        Druid-Balance    3840241.0         24720   \n",
       "Halishock      Shaman   Shaman-Restoration        947.0       3151588   \n",
       "Jshadylock    Warlock  Warlock-Destruction    2198779.0         36167   \n",
       "Massoud       Warrior         Warrior-Arms    1222371.0         86570   \n",
       "Nekmage          Mage          Mage-Arcane    6277194.0         11802   \n",
       "Neryxsp        Priest    Priest-Discipline      73018.0       3445144   \n",
       "Onenighter      Rogue         Rogue-Combat    3682224.0         51801   \n",
       "Pickenicke     Shaman   Shaman-Restoration       2714.0       4551313   \n",
       "Prefertocat     Druid                Druid    3485760.0        162990   \n",
       "Røchelle      Warlock  Warlock-Destruction    7400336.0        104990   \n",
       "Savagebeep    Warrior         Warrior-Fury    6236420.0         32166   \n",
       "Shadowkind     Shaman   Shaman-Restoration      56969.0       3424201   \n",
       "Shinebrïght     Druid                Druid    3201200.0        152307   \n",
       "Steffx         Priest        Priest-Shadow    4470550.0       1118802   \n",
       "Streaming     Warlock  Warlock-Destruction    7490117.0        134097   \n",
       "Unstoppàble   Paladin  Paladin-Retribution    2994849.0         21406   \n",
       "Ét            Warlock  Warlock-Destruction    5588449.0         27774   \n",
       "Ëmillion         Mage          Mage-Arcane    5619421.0          1618   \n",
       "Ìnvinity      Paladin              Paladin    2226731.0        228148   \n",
       "\n",
       "              Damage Taken    Role  Percentage Damage   Damage Cut  \\\n",
       "Name                                                                 \n",
       "Bambambamm          737782     DPS           0.062909  1620.845070   \n",
       "Blindman               153     DPS           0.000000     0.000000   \n",
       "Careful             720226     DPS           0.075433  1943.498835   \n",
       "Clutchxd            720724  Healer           0.000000     0.000000   \n",
       "Darmar              655696     DPS           0.065414  1685.374234   \n",
       "Elodié              730596  Healer           0.000000     0.000000   \n",
       "Fakemechanic        573931  Healer           0.000000     0.000000   \n",
       "Gezz                623601     DPS           0.093006  2525.092292   \n",
       "Grízzly             690972     DPS           0.047362  1220.257940   \n",
       "Halishock           632794  Healer           0.000000     0.000000   \n",
       "Jshadylock          221770     DPS           0.027117   698.674259   \n",
       "Massoud             853896     DPS           0.015075   259.591629   \n",
       "Nekmage             788326     DPS           0.077416  1994.613312   \n",
       "Neryxsp             697703  Healer           0.000000     0.000000   \n",
       "Onenighter          853088     DPS           0.045413  1170.047159   \n",
       "Pickenicke          606646  Healer           0.000000     0.000000   \n",
       "Prefertocat        1711469    Tank           0.000000     0.000000   \n",
       "Røchelle            604155     DPS           0.091268  2351.497930   \n",
       "Savagebeep          788601     DPS           0.076914  1981.657147   \n",
       "Shadowkind          705807  Healer           0.000000     0.000000   \n",
       "Shinebrïght        3231640    Tank           0.000000     0.000000   \n",
       "Steffx              801833     DPS           0.055135  1420.542131   \n",
       "Streaming           662172     DPS           0.092375  2380.026343   \n",
       "Unstoppàble         534858     DPS           0.036935   951.629929   \n",
       "Ét                  674553     DPS           0.068922  1775.760757   \n",
       "Ëmillion            560396     DPS           0.069304  1785.602282   \n",
       "Ìnvinity           4337165    Tank           0.000000     0.000000   \n",
       "\n",
       "                 Tank Cut  Healer Cut  Support Cut  Bonus Cut  Deductions  \\\n",
       "Name                                                                        \n",
       "Bambambamm       0.000000     0.00000    659.28125     0.0000        -0.0   \n",
       "Blindman         0.000000     0.00000      0.00000     0.0000        -0.0   \n",
       "Careful          0.000000     0.00000      0.00000     0.0000        -0.0   \n",
       "Clutchxd         0.000000  2241.55625      0.00000     0.0000        -0.0   \n",
       "Darmar           0.000000     0.00000    659.28125     0.0000        -0.0   \n",
       "Elodié           0.000000  2241.55625      0.00000     0.0000        -0.0   \n",
       "Fakemechanic     0.000000  2241.55625      0.00000     0.0000        -0.0   \n",
       "Gezz             0.000000     0.00000      0.00000   158.2275        -0.0   \n",
       "Grízzly          0.000000     0.00000    659.28125     0.0000        -0.0   \n",
       "Halishock        0.000000  2241.55625      0.00000     0.0000        -0.0   \n",
       "Jshadylock       0.000000     0.00000      0.00000     0.0000        -0.0   \n",
       "Massoud          0.000000     0.00000      0.00000     0.0000        -0.0   \n",
       "Nekmage          0.000000     0.00000      0.00000     0.0000        -0.0   \n",
       "Neryxsp          0.000000  2241.55625      0.00000     0.0000        -0.0   \n",
       "Onenighter       0.000000     0.00000      0.00000     0.0000        -0.0   \n",
       "Pickenicke       0.000000  2241.55625      0.00000     0.0000        -0.0   \n",
       "Prefertocat   2417.364583     0.00000      0.00000     0.0000        -0.0   \n",
       "Røchelle         0.000000     0.00000      0.00000     0.0000        -0.0   \n",
       "Savagebeep       0.000000     0.00000      0.00000     0.0000        -0.0   \n",
       "Shadowkind       0.000000  2241.55625      0.00000     0.0000        -0.0   \n",
       "Shinebrïght   2417.364583     0.00000      0.00000     0.0000        -0.0   \n",
       "Steffx           0.000000     0.00000    922.99375     0.0000        -0.0   \n",
       "Streaming        0.000000     0.00000      0.00000   158.2275        -0.0   \n",
       "Unstoppàble      0.000000     0.00000    659.28125     0.0000        -0.0   \n",
       "Ét               0.000000     0.00000      0.00000     0.0000        -0.0   \n",
       "Ëmillion         0.000000     0.00000      0.00000     0.0000        -0.0   \n",
       "Ìnvinity      2417.364583     0.00000      0.00000     0.0000        -0.0   \n",
       "\n",
       "              Total Cut  \n",
       "Name                     \n",
       "Bambambamm         2281  \n",
       "Blindman              0  \n",
       "Careful            1944  \n",
       "Clutchxd           2242  \n",
       "Darmar             2345  \n",
       "Elodié             2242  \n",
       "Fakemechanic       2242  \n",
       "Gezz               2684  \n",
       "Grízzly            1880  \n",
       "Halishock          2242  \n",
       "Jshadylock          699  \n",
       "Massoud             260  \n",
       "Nekmage            1995  \n",
       "Neryxsp            2242  \n",
       "Onenighter         1171  \n",
       "Pickenicke         2242  \n",
       "Prefertocat        2418  \n",
       "Røchelle           2352  \n",
       "Savagebeep         1982  \n",
       "Shadowkind         2242  \n",
       "Shinebrïght        2418  \n",
       "Steffx             2344  \n",
       "Streaming          2539  \n",
       "Unstoppàble        1611  \n",
       "Ét                 1776  \n",
       "Ëmillion           1786  \n",
       "Ìnvinity           2418  "
      ]
     },
     "execution_count": 42,
     "metadata": {},
     "output_type": "execute_result"
    }
   ],
   "source": [
    "#print entire data frame\n",
    "\n",
    "fatMonies.df\n",
    "\n",
    "\n"
   ]
  },
  {
   "cell_type": "code",
   "execution_count": 38,
   "id": "6cec78ba",
   "metadata": {
    "scrolled": true
   },
   "outputs": [
    {
     "name": "stdout",
     "output_type": "stream",
     "text": [
      "Tank Cut    :  7252.094 \n",
      "Tank Cut DF :  7252.094\n",
      "\n",
      "\n",
      "Healer Cut    :  15690.894 \n",
      "Healer Cut DF :  15690.894\n",
      "\n",
      "\n",
      "DPS Cut    :  25764.711 \n",
      "DPS Cut DF :  25764.711\n",
      "\n",
      "\n",
      "Support Cut    :  3560.119 \n",
      "Support Cut DF :  3560.119\n",
      "\n",
      "\n",
      "Bonus Cut    :  474.683 \n",
      "Bonus Cut DF :  316.455\n",
      "\n",
      "\n",
      "\n",
      "Total Pot      :  62050\n",
      "Management Cut :  9307.5\n",
      "Raider Cut     :  52742.5\n",
      "\n",
      "Tank Cut    :  7252.094\n",
      "Healer Cut  :  15690.894\n",
      "DPS Cut     :  25764.711\n",
      "Support Cut :  3560.119\n",
      "Bonus Cut   :  474.683\n",
      "Total Cuts  :  52742.5\n"
     ]
    }
   ],
   "source": [
    "#Run this code for diagnostics information:\n",
    "\n",
    "fatMonies.diagnostics()  \n"
   ]
  },
  {
   "cell_type": "code",
   "execution_count": 39,
   "id": "0e2d2743",
   "metadata": {},
   "outputs": [],
   "source": [
    "import gspread\n",
    "\n",
    "\n",
    "gc = gspread.service_account(filename='gdkp-performance-2069da9ef7b9.json')\n",
    "sh = gc.open(\"LR GDKP\")"
   ]
  },
  {
   "cell_type": "code",
   "execution_count": 67,
   "id": "a713399a",
   "metadata": {},
   "outputs": [
    {
     "data": {
      "text/plain": [
       "{'spreadsheetId': '1Wb0BMdjrFN6vkcAnvIP9dlVomUL4YM-qK2bL96vIACQ',\n",
       " 'updatedRange': \"'Python API'!A1:O26\",\n",
       " 'updatedRows': 26,\n",
       " 'updatedColumns': 15,\n",
       " 'updatedCells': 390}"
      ]
     },
     "execution_count": 67,
     "metadata": {},
     "output_type": "execute_result"
    }
   ],
   "source": []
  },
  {
   "cell_type": "code",
   "execution_count": null,
   "id": "ede8c2f3",
   "metadata": {},
   "outputs": [],
   "source": []
  }
 ],
 "metadata": {
  "kernelspec": {
   "display_name": "Python 3 (ipykernel)",
   "language": "python",
   "name": "python3"
  },
  "language_info": {
   "codemirror_mode": {
    "name": "ipython",
    "version": 3
   },
   "file_extension": ".py",
   "mimetype": "text/x-python",
   "name": "python",
   "nbconvert_exporter": "python",
   "pygments_lexer": "ipython3",
   "version": "3.9.12"
  }
 },
 "nbformat": 4,
 "nbformat_minor": 5
}
